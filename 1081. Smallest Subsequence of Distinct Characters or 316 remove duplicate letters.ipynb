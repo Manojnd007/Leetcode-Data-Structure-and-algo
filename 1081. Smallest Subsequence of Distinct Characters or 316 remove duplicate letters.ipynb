{
 "cells": [
  {
   "cell_type": "markdown",
   "id": "1cae96f8",
   "metadata": {},
   "source": [
    "Given a string s, return the lexicographically smallest subsequence of s that contains all the distinct characters of s exactly once.\n",
    "\n",
    " \n",
    "\n",
    "Example 1:\n",
    "\n",
    "Input: s = \"bcabc\"\n",
    "Output: \"abc\"\n",
    "Example 2:\n",
    "\n",
    "Input: s = \"cbacdcbc\"\n",
    "Output: \"acdb\""
   ]
  },
  {
   "cell_type": "code",
   "execution_count": null,
   "id": "04ac4699",
   "metadata": {},
   "outputs": [],
   "source": [
    "Q) can the first character be 'b'?\n",
    "Since we want 'a' only \n"
   ]
  },
  {
   "cell_type": "code",
   "execution_count": 22,
   "id": "bc578cd6",
   "metadata": {},
   "outputs": [],
   "source": [
    "class Solution:\n",
    "    def removeDuplicateLetters(self, s: str) -> str:\n",
    "        indices = collections.defaultdict(collections.deque)\n",
    "        \n",
    "        for i, c in enumerate(s):\n",
    "            indices[c].append(i)\n",
    "            \n",
    "        distinct = len(indices)\n",
    "        \n",
    "        used = set()\n",
    "        ans = []\n",
    "        \n",
    "        #order of N\n",
    "        while len(used) < distinct:\n",
    "            #Order of N\n",
    "            for i in range(26):\n",
    "                c  = chr(i + ord('a'))\n",
    "                \n",
    "                if c in used:\n",
    "                    continue\n",
    "                \n",
    "                if c not in indices:\n",
    "                    continue\n",
    "                    \n",
    "                #Can this be the next character?\n",
    "                first = indices[c][0]\n",
    "                found = False\n",
    "                \n",
    "                #Order of N\n",
    "                for d in indices.keys():\n",
    "                    if c != d and d not in used:\n",
    "                        #O(log N)\n",
    "                        index = bisect.bisect_left(indices[d], first)\n",
    "                        \n",
    "                        if index >=len(indices[d]):\n",
    "                            found = True\n",
    "                            break\n",
    "                            \n",
    "                if not found:\n",
    "                    ans.append(c)\n",
    "                    used.add(c)   \n",
    "                    \n",
    "                    for d in indices.keys():\n",
    "                        while len(indices[d]) >0 and indices[d][0] < first:\n",
    "                            indices[d].popleft()\n",
    "                    break\n",
    "                    \n",
    "        return \"\".join(ans)\n",
    "                        "
   ]
  },
  {
   "cell_type": "code",
   "execution_count": null,
   "id": "76b9e115",
   "metadata": {},
   "outputs": [],
   "source": [
    "Time complixity is : (O)n^3\n",
    "Space compaxility is : (O)n"
   ]
  }
 ],
 "metadata": {
  "kernelspec": {
   "display_name": "Python 3 (ipykernel)",
   "language": "python",
   "name": "python3"
  },
  "language_info": {
   "codemirror_mode": {
    "name": "ipython",
    "version": 3
   },
   "file_extension": ".py",
   "mimetype": "text/x-python",
   "name": "python",
   "nbconvert_exporter": "python",
   "pygments_lexer": "ipython3",
   "version": "3.8.8"
  }
 },
 "nbformat": 4,
 "nbformat_minor": 5
}
